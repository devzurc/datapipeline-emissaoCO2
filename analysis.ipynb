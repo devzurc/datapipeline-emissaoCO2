{
 "cells": [
  {
   "cell_type": "code",
   "execution_count": 1,
   "metadata": {},
   "outputs": [
    {
     "name": "stderr",
     "output_type": "stream",
     "text": [
      "2025-03-26 21:13:15,957 - INFO - Configuração de logging concluída.\n",
      "2025-03-26 21:13:15,959 - INFO - Diretórios da arquitetura Lakehouse verificadas com sucesso.\n"
     ]
    }
   ],
   "source": [
    "# Importing libraries;\n",
    "from scripts import bronze, silver, gold, utils\n",
    "\n",
    "# Setup logger;\n",
    "logger = utils.setup_logging()\n",
    "\n",
    "# Set up lakehouse architecture;\n",
    "logger = utils.setup_lakehouse(logger)"
   ]
  },
  {
   "cell_type": "code",
   "execution_count": 2,
   "metadata": {},
   "outputs": [
    {
     "name": "stderr",
     "output_type": "stream",
     "text": [
      "2025-03-26 21:13:16,035 - INFO - Arquivo CSV carregado com sucesso de data-source/Emissão_CO2_por_países.csv. Registros: 5677\n",
      "2025-03-26 21:13:16,084 - INFO - Arquivo Parquet salvo na Bronze Zone: data-lakehouse/bronze/Emissão_CO2_por_países.parquet\n"
     ]
    }
   ],
   "source": [
    "# BRONZE: Transform CSV to PARQUET file;\n",
    "df_bronze = bronze.etl_bronze(logger)"
   ]
  },
  {
   "cell_type": "code",
   "execution_count": 4,
   "metadata": {},
   "outputs": [
    {
     "name": "stderr",
     "output_type": "stream",
     "text": [
      "2025-03-26 21:13:21,612 - INFO - Arquivo carregado. Registros: 5677\n",
      "2025-03-26 21:13:21,701 - INFO - Arquivo salvo na Silver Zone: data-lakehouse/silver/Emissão_CO2_por_países.parquet\n"
     ]
    }
   ],
   "source": [
    "# SILVER: Clean Dataset;\n",
    "df_silver = silver.etl_silver(logger)"
   ]
  },
  {
   "cell_type": "code",
   "execution_count": 5,
   "metadata": {},
   "outputs": [
    {
     "name": "stderr",
     "output_type": "stream",
     "text": [
      "2025-03-26 21:13:46,380 - INFO - Arquivo carregado da Silver Zone. Registros: 5677\n",
      "2025-03-26 21:13:46,398 - INFO - Resultados de BI salvos com sucesso na Gold Zone!\n"
     ]
    }
   ],
   "source": [
    "# GOLD: Apply Bussiness Intelligence;\n",
    "df_gold = gold.etl_gold(logger)"
   ]
  },
  {
   "cell_type": "code",
   "execution_count": 8,
   "metadata": {},
   "outputs": [
    {
     "name": "stdout",
     "output_type": "stream",
     "text": [
      "     region  kilotons_of_co2\n",
      "0      Asia     3.705193e+08\n",
      "1  Americas     2.195244e+08\n",
      "2    Europe     1.839814e+08\n",
      "3    Africa     2.884081e+07\n",
      "4   Oceania     1.151804e+07\n",
      "         country  kilotons_of_co2\n",
      "0          China     1.807228e+08\n",
      "1  United States     1.583179e+08\n",
      "2         Russia     5.002867e+07\n",
      "3          India     3.988273e+07\n",
      "4          Japan     3.507659e+07\n"
     ]
    }
   ],
   "source": [
    "import pandas as pd\n",
    "\n",
    "# Lendo os arquivos Parquet\n",
    "co2_by_region = pd.read_parquet('data-lakehouse/gold/co2_by_region.parquet')\n",
    "top_countries_co2 = pd.read_parquet('data-lakehouse/gold/top_countries_co2.parquet')\n",
    "\n",
    "# Verificando as primeiras linhas dos dataframes\n",
    "print(co2_by_region.head())\n",
    "print(top_countries_co2.head())\n"
   ]
  },
  {
   "cell_type": "code",
   "execution_count": 14,
   "metadata": {},
   "outputs": [
    {
     "data": {
      "text/html": [
       "\n",
       "        <iframe\n",
       "            width=\"100%\"\n",
       "            height=\"650\"\n",
       "            src=\"http://127.0.0.1:8050/\"\n",
       "            frameborder=\"0\"\n",
       "            allowfullscreen\n",
       "            \n",
       "        ></iframe>\n",
       "        "
      ],
      "text/plain": [
       "<IPython.lib.display.IFrame at 0x121a80a50>"
      ]
     },
     "metadata": {},
     "output_type": "display_data"
    }
   ],
   "source": [
    "import dash\n",
    "from dash import dcc, html\n",
    "import plotly.express as px\n",
    "import pandas as pd\n",
    "\n",
    "# Inicializando o app Dash\n",
    "app = dash.Dash(__name__)\n",
    "\n",
    "# Selecionando os 10 países com as maiores emissões de CO2\n",
    "top_countries_co2 = top_countries_co2.nlargest(10, 'kilotons_of_co2')\n",
    "\n",
    "# Criando gráficos interativos com Plotly\n",
    "fig1 = px.bar(co2_by_region, x='region', y='kilotons_of_co2', title=\"Emissões de CO2 por Região\")\n",
    "fig2 = px.bar(top_countries_co2, x='country', y='kilotons_of_co2', title=\"Top 10 Países por Emissões de CO2\")\n",
    "\n",
    "# Definindo o layout do dashboard\n",
    "app.layout = html.Div(children=[\n",
    "    html.H1(\"Dashboard de Emissões de CO2\", style={'textAlign': 'center'}),\n",
    "    dcc.Graph(id='grafico1', figure=fig1),\n",
    "    dcc.Graph(id='grafico2', figure=fig2),\n",
    "])\n",
    "\n",
    "# Rodando o servidor\n",
    "if __name__ == '__main__':\n",
    "    app.run(debug=True)"
   ]
  },
  {
   "cell_type": "code",
   "execution_count": null,
   "metadata": {},
   "outputs": [],
   "source": []
  }
 ],
 "metadata": {
  "kernelspec": {
   "display_name": ".venv",
   "language": "python",
   "name": "python3"
  },
  "language_info": {
   "codemirror_mode": {
    "name": "ipython",
    "version": 3
   },
   "file_extension": ".py",
   "mimetype": "text/x-python",
   "name": "python",
   "nbconvert_exporter": "python",
   "pygments_lexer": "ipython3",
   "version": "3.13.0"
  }
 },
 "nbformat": 4,
 "nbformat_minor": 2
}
