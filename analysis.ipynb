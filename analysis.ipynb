{
 "cells": [
  {
   "cell_type": "code",
   "execution_count": 8,
   "metadata": {},
   "outputs": [
    {
     "name": "stdout",
     "output_type": "stream",
     "text": [
      "Primeiras linhas de co2_by_region:      region  kilotons_of_co2_sum  metric_tons_per_capita_sum  \\\n",
      "0    Europe         1.839814e+08                     8883.97   \n",
      "1      Asia         3.705193e+08                     8600.92   \n",
      "2  Americas         2.195244e+08                     3829.07   \n",
      "3    Africa         2.884081e+07                     1668.13   \n",
      "4   Oceania         1.151804e+07                     1573.80   \n",
      "\n",
      "   reduction_potential  \n",
      "0              8883.97  \n",
      "1              8600.92  \n",
      "2              3829.07  \n",
      "3              1668.13  \n",
      "4              1573.80  \n",
      "Primeiras linhas de top_countries_co2:          country  kilotons_of_co2_sum  metric_tons_per_capita_sum\n",
      "0          China         1.807228e+08                      136.52\n",
      "1  United States         1.583179e+08                      544.55\n",
      "2         Russia         5.002867e+07                      344.09\n",
      "3          India         3.988273e+07                       33.62\n",
      "4          Japan         3.507659e+07                      276.72\n",
      "Primeiras linhas de co2_reduction_potential:      region  kilotons_of_co2_sum  metric_tons_per_capita_sum  \\\n",
      "0    Europe         1.839814e+08                     8883.97   \n",
      "1      Asia         3.705193e+08                     8600.92   \n",
      "2  Americas         2.195244e+08                     3829.07   \n",
      "3    Africa         2.884081e+07                     1668.13   \n",
      "4   Oceania         1.151804e+07                     1573.80   \n",
      "\n",
      "   reduction_potential  \n",
      "0              8883.97  \n",
      "1              8600.92  \n",
      "2              3829.07  \n",
      "3              1668.13  \n",
      "4              1573.80  \n",
      "Primeiras linhas de emissions_by_year:          date  kilotons_of_co2_sum\n",
      "0  01-01-0000           260.000000\n",
      "1   01-01-009          4620.000000\n",
      "2  01-01-1000        265035.233899\n",
      "3  01-01-1400           160.000000\n",
      "4  01-01-1427           210.000000\n",
      "Colunas de co2_by_region: Index(['region', 'kilotons_of_co2_sum', 'metric_tons_per_capita_sum',\n",
      "       'reduction_potential'],\n",
      "      dtype='object')\n",
      "Colunas de top_countries_co2: Index(['country', 'kilotons_of_co2_sum', 'metric_tons_per_capita_sum'], dtype='object')\n",
      "Colunas de co2_reduction_potential: Index(['region', 'kilotons_of_co2_sum', 'metric_tons_per_capita_sum',\n",
      "       'reduction_potential'],\n",
      "      dtype='object')\n",
      "Colunas de emissions_by_year: Index(['date', 'kilotons_of_co2_sum'], dtype='object')\n"
     ]
    },
    {
     "data": {
      "text/html": [
       "\n",
       "        <iframe\n",
       "            width=\"100%\"\n",
       "            height=\"650\"\n",
       "            src=\"http://127.0.0.1:8050/\"\n",
       "            frameborder=\"0\"\n",
       "            allowfullscreen\n",
       "            \n",
       "        ></iframe>\n",
       "        "
      ],
      "text/plain": [
       "<IPython.lib.display.IFrame at 0x126616850>"
      ]
     },
     "metadata": {},
     "output_type": "display_data"
    }
   ],
   "source": [
    "import pandas as pd\n",
    "import dash\n",
    "from dash import dcc, html\n",
    "import plotly.express as px\n",
    "\n",
    "# Lendo os arquivos Parquet\n",
    "co2_by_region = pd.read_parquet('data-lakehouse/gold/co2_by_region.parquet')\n",
    "top_countries_co2 = pd.read_parquet('data-lakehouse/gold/top_countries_co2.parquet')\n",
    "co2_reduction_potential = pd.read_parquet('data-lakehouse/gold/reduction_potential_by_region.parquet')\n",
    "\n",
    "# Verificando as primeiras linhas dos dataframes\n",
    "print(\"Primeiras linhas de co2_by_region:\", co2_by_region.head())\n",
    "print(\"Primeiras linhas de top_countries_co2:\", top_countries_co2.head())\n",
    "print(\"Primeiras linhas de co2_reduction_potential:\", co2_reduction_potential.head())\n",
    "\n",
    "# Verificando as colunas dos dataframes\n",
    "print(\"Colunas de co2_by_region:\", co2_by_region.columns)\n",
    "print(\"Colunas de top_countries_co2:\", top_countries_co2.columns)\n",
    "print(\"Colunas de co2_reduction_potential:\", co2_reduction_potential.columns)\n",
    "\n",
    "# Inicializando o app Dash\n",
    "app = dash.Dash(__name__)\n",
    "\n",
    "# Selecionando os 10 países com as maiores emissões de CO2\n",
    "# Usando o nome correto da coluna: 'kilotons_of_co2_sum'\n",
    "top_countries_co2 = top_countries_co2.nlargest(10, 'kilotons_of_co2_sum')\n",
    "\n",
    "# Criando gráficos interativos com Plotly\n",
    "fig1 = px.bar(co2_by_region, x='region', y='kilotons_of_co2_sum', title=\"Emissões de CO2 por Região\")\n",
    "fig2 = px.bar(top_countries_co2, x='country', y='kilotons_of_co2_sum', title=\"Top 10 Países por Emissões de CO2\")\n",
    "fig3 = px.bar(co2_reduction_potential, x='region', y='reduction_potential', title=\"Potencial de Redução de CO2 por Região\")\n",
    "\n",
    "# Definindo o layout do dashboard\n",
    "app.layout = html.Div(children=[\n",
    "    html.H1(\"Dashboard de Emissões de CO2\", style={'textAlign': 'center'}),\n",
    "    dcc.Graph(id='grafico1', figure=fig1),\n",
    "    dcc.Graph(id='grafico2', figure=fig2),\n",
    "    dcc.Graph(id='grafico3', figure=fig3),\n",
    "])\n",
    "\n",
    "# Rodando o servidor\n",
    "if __name__ == '__main__':\n",
    "    app.run(debug=True)\n"
   ]
  },
  {
   "cell_type": "code",
   "execution_count": null,
   "metadata": {},
   "outputs": [],
   "source": []
  }
 ],
 "metadata": {
  "kernelspec": {
   "display_name": ".venv",
   "language": "python",
   "name": "python3"
  },
  "language_info": {
   "codemirror_mode": {
    "name": "ipython",
    "version": 3
   },
   "file_extension": ".py",
   "mimetype": "text/x-python",
   "name": "python",
   "nbconvert_exporter": "python",
   "pygments_lexer": "ipython3",
   "version": "3.13.0"
  }
 },
 "nbformat": 4,
 "nbformat_minor": 2
}
